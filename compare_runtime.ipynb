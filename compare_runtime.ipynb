{
 "cells": [
  {
   "cell_type": "code",
   "execution_count": 1,
   "metadata": {
    "collapsed": true
   },
   "outputs": [],
   "source": [
    "import timeit"
   ]
  },
  {
   "cell_type": "markdown",
   "metadata": {},
   "source": [
    "## Sum of squares using Python List"
   ]
  },
  {
   "cell_type": "code",
   "execution_count": 2,
   "metadata": {
    "collapsed": true
   },
   "outputs": [],
   "source": [
    "def sum_of_squares():\n",
    "    \"\"\"\n",
    "    Finding the sum of squares using Python list\n",
    "    \n",
    "    Return:\n",
    "    Sum of Squares\n",
    "    \"\"\"\n",
    "    squares = [x*x for x in range(1000)]\n",
    "    return sum(squares)"
   ]
  },
  {
   "cell_type": "code",
   "execution_count": 7,
   "metadata": {
    "collapsed": false
   },
   "outputs": [],
   "source": [
    "normal_py_sec = timeit.timeit(sum_of_squares, number=10000)"
   ]
  },
  {
   "cell_type": "markdown",
   "metadata": {},
   "source": [
    "## Sum of Squares using Numpy List"
   ]
  },
  {
   "cell_type": "code",
   "execution_count": 8,
   "metadata": {
    "collapsed": true
   },
   "outputs": [],
   "source": [
    "import numpy as np"
   ]
  },
  {
   "cell_type": "code",
   "execution_count": 9,
   "metadata": {
    "collapsed": true
   },
   "outputs": [],
   "source": [
    "def sum_of_squares():\n",
    "    \"\"\"\n",
    "    Finding the sum of squares using Numpy List\n",
    "    \n",
    "    Return:\n",
    "    Sum of Squares\n",
    "    \"\"\"\n",
    "    numpy_array = np.arange(1000)\n",
    "    sum_of_squares = sum(numpy_array*numpy_array)\n",
    "    return sum_of_squares"
   ]
  },
  {
   "cell_type": "code",
   "execution_count": 10,
   "metadata": {
    "collapsed": true
   },
   "outputs": [],
   "source": [
    "naive_py_sec = timeit.timeit(sum_of_squares, number=10000)"
   ]
  },
  {
   "cell_type": "markdown",
   "metadata": {},
   "source": [
    "## Sum of Squares using Numpy List using DotProduct"
   ]
  },
  {
   "cell_type": "code",
   "execution_count": 11,
   "metadata": {
    "collapsed": true
   },
   "outputs": [],
   "source": [
    "def sum_of_squares():\n",
    "    \"\"\"\n",
    "    Finding the sum of squares using Numpy List (DotProduct)\n",
    "    \n",
    "    Return:\n",
    "    Sum of Squares\n",
    "    \"\"\"\n",
    "    numpy_array = np.arange(1000)\n",
    "    sum_of_squares = numpy_array.dot(numpy_array)\n",
    "    return sum_of_squares"
   ]
  },
  {
   "cell_type": "code",
   "execution_count": 12,
   "metadata": {
    "collapsed": true
   },
   "outputs": [],
   "source": [
    "good_py_sec = timeit.timeit(sum_of_squares, number=10000)"
   ]
  },
  {
   "cell_type": "markdown",
   "metadata": {},
   "source": [
    "## Comparing Runtime Observations"
   ]
  },
  {
   "cell_type": "code",
   "execution_count": 13,
   "metadata": {
    "collapsed": false
   },
   "outputs": [
    {
     "name": "stdout",
     "output_type": "stream",
     "text": [
      "Normal Python %f seconds 2.4396838350003236\n",
      "Naive Numpy %f seconds 3.270635193999624\n",
      "Good Numpy %f seconds 0.1229614159965422\n"
     ]
    }
   ],
   "source": [
    "print (\"Normal Python %f seconds\", normal_py_sec)\n",
    "print (\"Naive Numpy %f seconds\", naive_py_sec)\n",
    "print (\"Good Numpy %f seconds\", good_py_sec)"
   ]
  },
  {
   "cell_type": "markdown",
   "metadata": {},
   "source": [
    "## Conclusion"
   ]
  },
  {
   "cell_type": "markdown",
   "metadata": {},
   "source": [
    "#### A numpy array is much faster than python lists. "
   ]
  }
 ],
 "metadata": {
  "kernelspec": {
   "display_name": "Python 3",
   "language": "python",
   "name": "python3"
  },
  "language_info": {
   "codemirror_mode": {
    "name": "ipython",
    "version": 3
   },
   "file_extension": ".py",
   "mimetype": "text/x-python",
   "name": "python",
   "nbconvert_exporter": "python",
   "pygments_lexer": "ipython3",
   "version": "3.5.2"
  }
 },
 "nbformat": 4,
 "nbformat_minor": 2
}
